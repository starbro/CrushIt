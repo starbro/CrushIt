{
 "cells": [
  {
   "cell_type": "code",
   "execution_count": 2,
   "metadata": {
    "collapsed": false
   },
   "outputs": [
    {
     "ename": "NameError",
     "evalue": "name 'biDist' is not defined",
     "output_type": "error",
     "traceback": [
      "\u001b[0;31m---------------------------------------------------------------------------\u001b[0m",
      "\u001b[0;31mNameError\u001b[0m                                 Traceback (most recent call last)",
      "\u001b[0;32m<ipython-input-2-2c5720df63ba>\u001b[0m in \u001b[0;36m<module>\u001b[0;34m()\u001b[0m\n\u001b[1;32m      5\u001b[0m \u001b[0;32mimport\u001b[0m \u001b[0mutil\u001b[0m\u001b[0;34m\u001b[0m\u001b[0m\n\u001b[1;32m      6\u001b[0m \u001b[0;32mimport\u001b[0m \u001b[0mitertools\u001b[0m\u001b[0;34m\u001b[0m\u001b[0m\n\u001b[0;32m----> 7\u001b[0;31m \u001b[0;32mimport\u001b[0m \u001b[0mhelpers\u001b[0m\u001b[0;34m\u001b[0m\u001b[0m\n\u001b[0m",
      "\u001b[0;32m/Users/Stephen/CrushIt/helpers.py\u001b[0m in \u001b[0;36m<module>\u001b[0;34m()\u001b[0m\n\u001b[1;32m    102\u001b[0m \u001b[0;34m\u001b[0m\u001b[0m\n\u001b[1;32m    103\u001b[0m \u001b[0;34m\u001b[0m\u001b[0m\n\u001b[0;32m--> 104\u001b[0;31m \u001b[0;32mdef\u001b[0m \u001b[0mbigramSegment\u001b[0m\u001b[0;34m(\u001b[0m\u001b[0msentence\u001b[0m\u001b[0;34m,\u001b[0m \u001b[0mbiDist\u001b[0m\u001b[0;34m=\u001b[0m\u001b[0mbiDist\u001b[0m\u001b[0;34m)\u001b[0m\u001b[0;34m:\u001b[0m\u001b[0;34m\u001b[0m\u001b[0m\n\u001b[0m\u001b[1;32m    105\u001b[0m     \u001b[0mpi\u001b[0m \u001b[0;34m=\u001b[0m \u001b[0;34m[\u001b[0m\u001b[0;34m]\u001b[0m\u001b[0;34m\u001b[0m\u001b[0m\n\u001b[1;32m    106\u001b[0m     \u001b[0mnewSentence\u001b[0m \u001b[0;34m=\u001b[0m \u001b[0msentence\u001b[0m\u001b[0;34m[\u001b[0m\u001b[0;36m0\u001b[0m\u001b[0;34m]\u001b[0m\u001b[0;34m\u001b[0m\u001b[0m\n",
      "\u001b[0;31mNameError\u001b[0m: name 'biDist' is not defined"
     ]
    }
   ],
   "source": [
    "# import kenlm\n",
    "import re\n",
    "import os\n",
    "import string\n",
    "import util\n",
    "import itertools\n",
    "from helpers import *"
   ]
  },
  {
   "cell_type": "code",
   "execution_count": 9,
   "metadata": {
    "collapsed": true
   },
   "outputs": [],
   "source": [
    "def bigramDistCond(inFile):\n",
    "    # Make a string from the file, stripped of all punctuation, etc.\n",
    "    stringText = stripText(inFile)\n",
    "    biDist = {}\n",
    "    for letter in ' abcdefghijklmnopqrstuvwxyz':\n",
    "        biDist[letter] = util.Counter()\n",
    "        for i in range(len(stringText)-1):\n",
    "            if stringText[i] == letter:\n",
    "                biDist[letter][letter+stringText[i+1]]+=1\n",
    "        biDist[letter].normalize()\n",
    "    return biDist\n",
    "\n",
    "# # See if this does the same thing. It saves on run time (don't need to loop over the stringText 27 times, only once.)\n",
    "# def bigramDistCond(inFile):\n",
    "#     # Make a string from the file, stripped of all punctuation, etc.\n",
    "#     stringText = stripText(inFile)\n",
    "#     biDist = {}\n",
    "#     for letter in ' abcdefghijklmnopqrstuvwxyz':\n",
    "#         biDist[letter] = util.Counter()\n",
    "    \n",
    "#     for i in range(len(stringText)-1):\n",
    "#         biDist[stringText[i]][stringText[i]+stringText[i+1]]+=1\n",
    "    \n",
    "#     for letter in ' abcdefghijklmnopqrstuvwxyz':\n",
    "#         biDist[letter].normalize()\n",
    "    \n",
    "#     return biDist\n",
    "    "
   ]
  },
  {
   "cell_type": "code",
   "execution_count": 10,
   "metadata": {
    "collapsed": false
   },
   "outputs": [],
   "source": [
    "# Replace ith large English words file.\n",
    "biDist= bigramDistCond('senseAndSensibility.txt')"
   ]
  },
  {
   "cell_type": "code",
   "execution_count": 23,
   "metadata": {
    "collapsed": false
   },
   "outputs": [],
   "source": [
    "def trigramDistCond(inFile):\n",
    "    chars = ' abcdefghijklmnopqrstuvwxyz'\n",
    "    bigrams = []\n",
    "    for char in chars:\n",
    "        for char1 in chars:\n",
    "            bigrams.append(char+char1)\n",
    "    stringText = stripText(inFile)\n",
    "    triDist = {}\n",
    "    for bi in bigrams:\n",
    "        triDist[bi] = util.Counter()\n",
    "        for i in range(len(stringText)-2):\n",
    "            if stringText[i]+stringText[i+1] == bi:\n",
    "                triDist[bi][bi + stringText[i+2]] += 1\n",
    "        triDist[bi].normalize()\n",
    "    return triDist\n",
    "\n",
    "# # See if this does the same thing:\n",
    "# def trigramDistCond(inFile):\n",
    "#     chars = ' abcdefghijklmnopqrstuvwxyz'\n",
    "#     bigrams = [(char+char1) for char in chars for char1 in chars]\n",
    "#     stringText = stripText(inFile)\n",
    "#     triDist = {bi:util.Counter() for bi in bigrams}\n",
    "    \n",
    "#     for i in range(len(stringText)-2):\n",
    "#         triDist[stringText[i]+stringText[i+1]][stringText[i]+stringText[i+1] + stringText[i+2]] += 1\n",
    "    \n",
    "#     for bi in bigrams:\n",
    "#         triDist[bi].normalize()\n",
    "        \n",
    "#     return triDist"
   ]
  },
  {
   "cell_type": "code",
   "execution_count": 24,
   "metadata": {
    "collapsed": false
   },
   "outputs": [],
   "source": [
    "triDist = trigramDistCond('senseAndSensibility.txt')"
   ]
  },
  {
   "cell_type": "markdown",
   "metadata": {},
   "source": [
    "## Should we make `fourgramDist` conditional?"
   ]
  },
  {
   "cell_type": "code",
   "execution_count": 11,
   "metadata": {
    "collapsed": true
   },
   "outputs": [],
   "source": [
    "fourDist = fourgramDist('senseAndSensibility.txt')"
   ]
  },
  {
   "cell_type": "code",
   "execution_count": 14,
   "metadata": {
    "collapsed": true
   },
   "outputs": [],
   "source": [
    "def bigramSegment(sentence, biDist=biDist):\n",
    "    pi = []\n",
    "    newSentence = sentence[0]\n",
    "    pi.append(1)\n",
    "    for i in range(len(sentence)-1):\n",
    "        pSpace = biDist[sentence[i]+' '] + biDist[' '+sentence[i+1]] # * pi[i]\n",
    "        pLetter = 2*biDist[sentence[i]+sentence[i+1]] # * pi[i]\n",
    "        pi.append(max(pSpace,pLetter))\n",
    "        if pSpace > pLetter:\n",
    "            newSentence += ' ' + sentence[i+1]\n",
    "        else:\n",
    "            newSentence += sentence[i+1]\n",
    "        \n",
    "    return newSentence"
   ]
  },
  {
   "cell_type": "markdown",
   "metadata": {},
   "source": [
    "### Brett: Why this line:\n",
    "`pSpace *= biDist[' '][' '+sentence[i+1]]`"
   ]
  },
  {
   "cell_type": "code",
   "execution_count": 18,
   "metadata": {
    "collapsed": false
   },
   "outputs": [],
   "source": [
    "def bigramSegmentNew(sentence, biDist=biDist):\n",
    "    newSentence = sentence[0]\n",
    "    for i in range(len(sentence)-1):\n",
    "        pSpace = biDist[sentence[i]][sentence[i]+' '] \n",
    "        pLetter = biDist[sentence[i]][sentence[i]+sentence[i+1]]\n",
    "        # renormalize the previous branch in the probability tree\n",
    "        pSpace /= (pSpace + pLetter)\n",
    "        # account for the probability of adding the next letter after the space\n",
    "        pSpace *= biDist[' '][' '+sentence[i+1]]  \n",
    "        if pSpace > pLetter:\n",
    "            newSentence += ' ' + sentence[i+1]\n",
    "        else:\n",
    "            newSentence += sentence[i+1]\n",
    "        \n",
    "    return newSentence"
   ]
  },
  {
   "cell_type": "code",
   "execution_count": 21,
   "metadata": {
    "collapsed": true
   },
   "outputs": [],
   "source": [
    "a = \"iamgoingtogotothestorenowdoesthatsoundalright\"\n",
    "# keys = ['hi','ib','br','re','et','tt','h ', 'i ', 'b ','r ', 'e ','t ', 't ']\n",
    "# myDist = dict({key:0 for key in keys})\n",
    "# myDist['i '] = 1\n",
    "# for c in ['hi','br','re','et','tt']:\n",
    "#     myDist[c] = 0.2"
   ]
  },
  {
   "cell_type": "code",
   "execution_count": 15,
   "metadata": {
    "collapsed": true
   },
   "outputs": [],
   "source": [
    "def fourgramSegment(sentence, fourDist=fourDist):\n",
    "    pi = []\n",
    "    newSentence = sentence[0]\n",
    "    pi.append(1)\n",
    "    for i in range(len(sentence)-3):\n",
    "        pSpace = fourDist[sentence[i-2]+sentence[i-1] + sentence[i] + ' '] \\\n",
    "                + fourDist[sentence[i-1]+sentence[i] + ' ' +sentence[i+1]]\\\n",
    "                + fourDist[sentence[i]+ ' ' + sentence[i+1] + sentence[i+2]]\\\n",
    "                + fourDist[' ' + sentence[i+1] + sentence[i+2] + sentence[i+3]]\n",
    "        pLetter = (4.0/3)*(fourDist[sentence[i-2]+sentence[i-1] + sentence[i] + sentence[i+1]]\n",
    "                           + fourDist[sentence[i-1]+sentence[i] + sentence[i+1] + sentence[i+2]]\n",
    "                           + fourDist[sentence[i]+sentence[i+1] + sentence[i+2] + sentence[i+3]])\n",
    "        pi.append(max(pSpace,pLetter))\n",
    "        if pSpace > pLetter:\n",
    "            newSentence += ' ' + sentence[i+1]\n",
    "        else:\n",
    "            newSentence += sentence[i+1]\n",
    "        \n",
    "    return newSentence"
   ]
  },
  {
   "cell_type": "code",
   "execution_count": 22,
   "metadata": {
    "collapsed": false
   },
   "outputs": [
    {
     "name": "stdout",
     "output_type": "stream",
     "text": [
      "i a m go ing to go to the storeno w d o e sthat sound al righ t\n"
     ]
    }
   ],
   "source": [
    "print bigramSegmentNew(a)"
   ]
  },
  {
   "cell_type": "code",
   "execution_count": 53,
   "metadata": {
    "collapsed": false
   },
   "outputs": [],
   "source": [
    "def trigramSegment(sentence, biDist=biDist, triDist = triDist, prevLetter = None, prevProb = 1):\n",
    "    if prevLetter == None:\n",
    "        newSentence = sentence[0]\n",
    "        pSpace = biDist[sentence[0]][sentence[0]+' '] \n",
    "        pLetter = biDist[sentence[0]][sentence[0]+sentence[1]]\n",
    "        pSpace /= (pSpace + pLetter)  # renormalize the previous branch in the probability tree\n",
    "        pSpace *= triDist[sentence[0]+' '][sentence[0]+' '+sentence[1]]  # account for the probability of adding the next letter after the space\n",
    "        if pSpace > pLetter:\n",
    "            pSpace /= (pSpace+pLetter)  # renormalize again\n",
    "            newSentence += ' ' + sentence[1] + trigramSegment(sentence[1:],biDist,triDist,prevLetter= ' ',prevProb = pSpace)\n",
    "        else:\n",
    "            pLetter /= (pSpace+pLetter)\n",
    "            newSentence += sentence[1] + trigramSegment(sentence[1:],biDist,triDist,prevLetter=sentence[0],prevProb = pLetter)\n",
    "    else:\n",
    "        if len(sentence) == 0:\n",
    "            return '.'\n",
    "        if len(sentence) == 1:\n",
    "            return sentence + '.'\n",
    "        if len(sentence) == 2: \n",
    "            pS = triDist[prevLetter+sentence[0]][prevLetter+sentence[0]+' '] * prevProb\n",
    "            pL = triDist[prevLetter+sentence[0]][prevLetter+sentence[0]+sentence[1]] * prevProb\n",
    "            pS /= (pS + pL)  # renormalize the previous branch in the probability tree\n",
    "            pL /= (pS + pL)\n",
    "            pSL = pS * triDist[sentence[0]+' '][sentence[0]+' '+sentence[1]]\n",
    "            if pSL > pL:\n",
    "                return ' '+sentence[1]\n",
    "            else:\n",
    "                return sentence[1]\n",
    "        else:\n",
    "            #print prevLetter+sentence[0]+' '\n",
    "            #print triDist[prevLetter+sentence[0]][prevLetter+sentence[0]+' ']\n",
    "            #print prevLetter+sentence[0]+sentence[1]\n",
    "            #print triDist[prevLetter+sentence[0]][prevLetter+sentence[0]+sentence[1]]\n",
    "            pS = triDist[prevLetter+sentence[0]][prevLetter+sentence[0]+' '] * prevProb\n",
    "            pL = triDist[prevLetter+sentence[0]][prevLetter+sentence[0]+sentence[1]] * prevProb\n",
    "            pS /= (pS + pL)  # renormalize the previous branch in the probability tree\n",
    "            pL /= (pS + pL)\n",
    "            # move to next level in the tree\n",
    "            pLSL = pS * triDist[sentence[0]+' '][sentence[0]+' '+sentence[1]]  # account for the probability of adding the next letter after the space\n",
    "            pLLS = triDist[sentence[0]+sentence[1]][sentence[0]+sentence[1]+' '] * pL\n",
    "            pLLL = triDist[sentence[0]+sentence[1]][sentence[0]+sentence[1]+sentence[2]] * pL\n",
    "            # normalize all probabilities at the same level in the tree.\n",
    "            pLSL /= (pLSL+pLLS+pLLL)\n",
    "            pLLS /= (pLSL+pLLS+pLLL)\n",
    "            pLLL /= (pLSL+pLLS+pLLL)\n",
    "            # move to next level in the tree\n",
    "            pLSLS = pLSL * triDist[' '+sentence[1]][' '+sentence[1]+' ']\n",
    "            pLSLL = pLSL * triDist[' '+sentence[1]][' '+sentence[1]+sentence[2]]\n",
    "            pLLSL = pLLS * triDist[sentence[1]+' '][sentence[1]+' '+sentence[2]]\n",
    "            pLLL_ = pLLL\n",
    "            # normalize all probabilities at the same level in the tree.\n",
    "            pLSLS /= (pLSLS+pLSLL+pLLSL+pLLL)\n",
    "            pLSLL /= (pLSLS+pLSLL+pLLSL+pLLL)\n",
    "            pLLSL /= (pLSLS+pLSLL+pLLSL+pLLL)\n",
    "            pLLL_ /= (pLSLS+pLSLL+pLLSL+pLLL)\n",
    "            # move to last level in the tree\n",
    "            pLSLSL = pLSLS * triDist[sentence[1]+' '][sentence[1]+' '+sentence[2]]\n",
    "            # pick best sequence and probability of that sequence\n",
    "            if pLSLSL >= pLSLL and pLSLSL >= pLLSL and pLSLSL >= pLLL_:\n",
    "                segment = ' '+sentence[1]+' '+sentence[2]\n",
    "                pLast = pLSLSL/(pLSLSL+pLSLL+pLLSL+pLLL_)\n",
    "                lLast = ' '\n",
    "                #print 'best: '\n",
    "            #print ' '+sentence[1]+' '+sentence[2]\n",
    "            #print pLSLSL/(pLSLSL+pLSLL+pLLSL+pLLL_)\n",
    "            if pLSLL >= pLSLSL and pLSLL >= pLLSL and pLSLL >= pLLL_:\n",
    "                segment = ' '+sentence[1]+sentence[2]\n",
    "                pLast = pLSLL/(pLSLSL+pLSLL+pLLSL+pLLL_)\n",
    "                lLast = sentence[1]\n",
    "                #print 'best: '\n",
    "            #print ' '+sentence[1]+sentence[2]\n",
    "            #print pLSLL/(pLSLSL+pLSLL+pLLSL+pLLL_)\n",
    "            if pLLSL >= pLSLSL and pLLSL >= pLSLL and pLLSL >= pLLL_:\n",
    "                segment = sentence[1]+' '+sentence[2]\n",
    "                pLast = pLLSL/(pLSLSL+pLSLL+pLLSL+pLLL_)\n",
    "                lLast = ' '\n",
    "                #print 'best: '\n",
    "            #print sentence[1]+' '+sentence[2]\n",
    "            #print pLLSL/(pLSLSL+pLSLL+pLLSL+pLLL_)\n",
    "            if pLLL_ >= pLSLSL and pLLL_ >= pLSLL and pLLL_ >= pLLSL:\n",
    "                segment = sentence[1]+sentence[2]\n",
    "                pLast = pLLL_/(pLSLSL+pLSLL+pLLSL+pLLL_)\n",
    "                lLast = sentence[1]\n",
    "                #print 'best: '\n",
    "            #print sentence[1]+sentence[2]\n",
    "            #print pLLL_/(pLSLSL+pLSLL+pLLSL+pLLL_)\n",
    "            newSentence = segment + trigramSegment(sentence[2:],biDist,triDist,prevLetter=lLast,prevProb = pLast)\n",
    "    return newSentence"
   ]
  },
  {
   "cell_type": "code",
   "execution_count": 54,
   "metadata": {
    "collapsed": false
   },
   "outputs": [
    {
     "name": "stdout",
     "output_type": "stream",
     "text": [
      "i am going to go to the st ore now do est hat so und al right\n"
     ]
    }
   ],
   "source": [
    "print trigramSegment(a)"
   ]
  },
  {
   "cell_type": "code",
   "execution_count": null,
   "metadata": {
    "collapsed": true
   },
   "outputs": [],
   "source": []
  }
 ],
 "metadata": {
  "kernelspec": {
   "display_name": "Python 2",
   "language": "python",
   "name": "python2"
  },
  "language_info": {
   "codemirror_mode": {
    "name": "ipython",
    "version": 2
   },
   "file_extension": ".py",
   "mimetype": "text/x-python",
   "name": "python",
   "nbconvert_exporter": "python",
   "pygments_lexer": "ipython2",
   "version": "2.7.10"
  }
 },
 "nbformat": 4,
 "nbformat_minor": 0
}
