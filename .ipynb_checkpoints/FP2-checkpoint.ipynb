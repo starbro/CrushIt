{
 "cells": [
  {
   "cell_type": "code",
   "execution_count": 26,
   "metadata": {
    "collapsed": true
   },
   "outputs": [],
   "source": [
    "# import kenlm\n",
    "import re\n",
    "import os\n",
    "import string\n",
    "import util\n",
    "import itertools"
   ]
  },
  {
   "cell_type": "code",
   "execution_count": 4,
   "metadata": {
    "collapsed": true
   },
   "outputs": [],
   "source": [
    "def removePunctuation(inFile):\n",
    "    with open(inFile) as fileIn:\n",
    "        stringText = fileIn.read()\n",
    "        return stringText.translate(None, string.punctuation)"
   ]
  },
  {
   "cell_type": "code",
   "execution_count": 5,
   "metadata": {
    "collapsed": true
   },
   "outputs": [],
   "source": [
    "def alphaLowerNoSpace(inFile):\n",
    "    with open(inFile) as fileIn:\n",
    "        stringText = fileIn.read()\n",
    "        return re.sub(r'[^a-zA-Z]','', stringText).lower()"
   ]
  },
  {
   "cell_type": "code",
   "execution_count": 6,
   "metadata": {
    "collapsed": true
   },
   "outputs": [],
   "source": [
    "def stripText(inFile):\n",
    "    with open(inFile) as fileIn:\n",
    "        stringText = fileIn.read()\n",
    "        return re.sub('[^A-Za-z ]+', '', stringText).lower()"
   ]
  },
  {
   "cell_type": "code",
   "execution_count": 6,
   "metadata": {
    "collapsed": true
   },
   "outputs": [],
   "source": [
    "# this is really just finding the joint probability of all two-letter combos, but I don't think that it is actually\n",
    "# the conditional probability table.\n",
    "def bigramDist(inFile):\n",
    "    stringText = stripText(inFile)\n",
    "    biDist = util.Counter()\n",
    "    for i in range(len(stringText)-1):\n",
    "        biDist[stringText[i] + stringText[i+1]] += 1\n",
    "    biDist.normalize()\n",
    "    return biDist"
   ]
  },
  {
   "cell_type": "code",
   "execution_count": 7,
   "metadata": {
    "collapsed": true
   },
   "outputs": [],
   "source": [
    "def bigramDistCond(inFile):\n",
    "    stringText = stripText(inFile)\n",
    "    biDist = {}\n",
    "    for letter in ' abcdefghijklmnopqrstuvwxyz':\n",
    "        biDist[letter] = util.Counter()\n",
    "        for i in range(len(stringText)-1):\n",
    "            if stringText[i] == letter:\n",
    "                biDist[letter][letter+stringText[i+1]]+=1\n",
    "        biDist[letter].normalize()\n",
    "    return biDist\n",
    "    "
   ]
  },
  {
   "cell_type": "code",
   "execution_count": 12,
   "metadata": {
    "collapsed": false
   },
   "outputs": [],
   "source": [
    "# Replace ith large English words file.\n",
    "biDist= bigramDistCond('senseAndSensibility.txt')"
   ]
  },
  {
   "cell_type": "code",
   "execution_count": 23,
   "metadata": {
    "collapsed": true
   },
   "outputs": [],
   "source": [
    "def trigramDist(inFile):\n",
    "    stringText = stripText(inFile)\n",
    "    triDist = util.Counter()\n",
    "    for i in range(len(stringText)-2):\n",
    "        triDist[stringText[i] + stringText[i+1] + stringText[i+2]] += 1\n",
    "    triDist.normalize()\n",
    "    return triDist"
   ]
  },
  {
   "cell_type": "code",
   "execution_count": 34,
   "metadata": {
    "collapsed": true
   },
   "outputs": [],
   "source": [
    "def trigramDistCond(inFile):\n",
    "    chars = ' abcdefghijklmnopqrstuvwxyz'\n",
    "    bigrams = []\n",
    "    for char in chars:\n",
    "        for char1 in chars:\n",
    "            bigrams.append(char+char1)\n",
    "    stringText = stripText(inFile)\n",
    "    triDist = {}\n",
    "    for bi in bigrams:\n",
    "        triDist[bi] = util.Counter()\n",
    "        for i in range(len(stringText)-2):\n",
    "            if stringText[i]+stringText[i+1] == bi:\n",
    "                triDist[bi][bi + stringText[i+2]] += 1\n",
    "        triDist[bi].normalize()\n",
    "    return triDist"
   ]
  },
  {
   "cell_type": "code",
   "execution_count": 35,
   "metadata": {
    "collapsed": false
   },
   "outputs": [],
   "source": [
    "triDist = trigramDistCond('senseAndSensibility.txt')"
   ]
  },
  {
   "cell_type": "code",
   "execution_count": 10,
   "metadata": {
    "collapsed": true
   },
   "outputs": [],
   "source": [
    "def fourgramDist(inFile):\n",
    "    stringText = stripText(inFile)\n",
    "    foDist = util.Counter()\n",
    "    for i in range(len(stringText)-3):\n",
    "        foDist[stringText[i] + stringText[i+1] + stringText[i+2] + stringText[i+3]] += 1\n",
    "    foDist.normalize()\n",
    "    return foDist"
   ]
  },
  {
   "cell_type": "code",
   "execution_count": 11,
   "metadata": {
    "collapsed": true
   },
   "outputs": [],
   "source": [
    "fourDist = fourgramDist('senseAndSensibility.txt')"
   ]
  },
  {
   "cell_type": "code",
   "execution_count": 14,
   "metadata": {
    "collapsed": true
   },
   "outputs": [],
   "source": [
    "def bigramSegment(sentence, biDist=biDist):\n",
    "    pi = []\n",
    "    newSentence = sentence[0]\n",
    "    pi.append(1)\n",
    "    for i in range(len(sentence)-1):\n",
    "        pSpace = biDist[sentence[i]+' '] + biDist[' '+sentence[i+1]] # * pi[i]\n",
    "        pLetter = 2*biDist[sentence[i]+sentence[i+1]] # * pi[i]\n",
    "        pi.append(max(pSpace,pLetter))\n",
    "        if pSpace > pLetter:\n",
    "            newSentence += ' ' + sentence[i+1]\n",
    "        else:\n",
    "            newSentence += sentence[i+1]\n",
    "        \n",
    "    return newSentence"
   ]
  },
  {
   "cell_type": "code",
   "execution_count": 18,
   "metadata": {
    "collapsed": false
   },
   "outputs": [],
   "source": [
    "def bigramSegmentNew(sentence, biDist=biDist):\n",
    "    newSentence = sentence[0]\n",
    "    for i in range(len(sentence)-1):\n",
    "        pSpace = biDist[sentence[i]][sentence[i]+' '] \n",
    "        pLetter = biDist[sentence[i]][sentence[i]+sentence[i+1]]\n",
    "        pSpace /= (pSpace + pLetter)  # renormalize the previous branch in the probability tree\n",
    "        pSpace *= biDist[' '][' '+sentence[i+1]]  # account for the probability of adding the next letter after the space\n",
    "        if pSpace > pLetter:\n",
    "            newSentence += ' ' + sentence[i+1]\n",
    "        else:\n",
    "            newSentence += sentence[i+1]\n",
    "        \n",
    "    return newSentence"
   ]
  },
  {
   "cell_type": "code",
   "execution_count": 21,
   "metadata": {
    "collapsed": true
   },
   "outputs": [],
   "source": [
    "a = \"iamgoingtogotothestorenowdoesthatsoundalright\"\n",
    "# keys = ['hi','ib','br','re','et','tt','h ', 'i ', 'b ','r ', 'e ','t ', 't ']\n",
    "# myDist = dict({key:0 for key in keys})\n",
    "# myDist['i '] = 1\n",
    "# for c in ['hi','br','re','et','tt']:\n",
    "#     myDist[c] = 0.2"
   ]
  },
  {
   "cell_type": "code",
   "execution_count": 15,
   "metadata": {
    "collapsed": true
   },
   "outputs": [],
   "source": [
    "def fourgramSegment(sentence, fourDist=fourDist):\n",
    "    pi = []\n",
    "    newSentence = sentence[0]\n",
    "    pi.append(1)\n",
    "    for i in range(len(sentence)-3):\n",
    "        pSpace = fourDist[sentence[i-2]+sentence[i-1] + sentence[i] + ' '] \\\n",
    "                + fourDist[sentence[i-1]+sentence[i] + ' ' +sentence[i+1]]\\\n",
    "                + fourDist[sentence[i]+ ' ' + sentence[i+1] + sentence[i+2]]\\\n",
    "                + fourDist[' ' + sentence[i+1] + sentence[i+2] + sentence[i+3]]\n",
    "        pLetter = (4.0/3)*(fourDist[sentence[i-2]+sentence[i-1] + sentence[i] + sentence[i+1]]\n",
    "                           + fourDist[sentence[i-1]+sentence[i] + sentence[i+1] + sentence[i+2]]\n",
    "                           + fourDist[sentence[i]+sentence[i+1] + sentence[i+2] + sentence[i+3]])\n",
    "        pi.append(max(pSpace,pLetter))\n",
    "        if pSpace > pLetter:\n",
    "            newSentence += ' ' + sentence[i+1]\n",
    "        else:\n",
    "            newSentence += sentence[i+1]\n",
    "        \n",
    "    return newSentence"
   ]
  },
  {
   "cell_type": "code",
   "execution_count": 22,
   "metadata": {
    "collapsed": false
   },
   "outputs": [
    {
     "name": "stdout",
     "output_type": "stream",
     "text": [
      "i a m go ing to go to the storeno w d o e sthat sound al righ t\n"
     ]
    }
   ],
   "source": [
    "print bigramSegmentNew(a)"
   ]
  },
  {
   "cell_type": "code",
   "execution_count": 49,
   "metadata": {
    "collapsed": false
   },
   "outputs": [],
   "source": [
    "def trigramSegment(sentence, biDist=biDist, triDist = triDist, prevLetter = None, prevProb = 1):\n",
    "    if prevLetter == None:\n",
    "        newSentence = sentence[0]\n",
    "        pSpace = biDist[sentence[0]][sentence[0]+' '] \n",
    "        pLetter = biDist[sentence[0]][sentence[0]+sentence[1]]\n",
    "        pSpace /= (pSpace + pLetter)  # renormalize the previous branch in the probability tree\n",
    "        pSpace *= triDist[sentence[0]+' '][sentence[0]+' '+sentence[1]]  # account for the probability of adding the next letter after the space\n",
    "        if pSpace > pLetter:\n",
    "            pSpace /= (pSpace+pLetter)  # renormalize again\n",
    "            newSentence += ' ' + sentence[1] + trigramSegment(sentence[1:],biDist,triDist,prevLetter= ' ',prevProb = pSpace)\n",
    "        else:\n",
    "            pLetter /= (pSpace+pLetter)\n",
    "            newSentence += sentence[1] + trigramSegment(sentence[1:],biDist,triDist,prevLetter=sentence[0],prevProb = pLetter)\n",
    "    else:\n",
    "        if len(sentence) == 0:\n",
    "            return '.'\n",
    "        if len(sentence) == 1:\n",
    "            return sentence + '.'\n",
    "        if len(sentence) == 2: \n",
    "            pS = triDist[prevLetter+sentence[0]][prevLetter+sentence[0]+' '] * prevProb\n",
    "            pL = triDist[prevLetter+sentence[0]][prevLetter+sentence[0]+sentence[1]] * prevProb\n",
    "            pS /= (pS + pL)  # renormalize the previous branch in the probability tree\n",
    "            pL /= (pS + pL)\n",
    "            pSL = pS * triDist[sentence[0]+' '][sentence[0]+' '+sentence[1]]\n",
    "            if pSL > pL:\n",
    "                return ' '+sentence[1]\n",
    "            else:\n",
    "                return sentence[1]\n",
    "        else:\n",
    "            print prevLetter+sentence[0]+' '\n",
    "            print triDist[prevLetter+sentence[0]][prevLetter+sentence[0]+' ']\n",
    "            print prevLetter+sentence[0]+sentence[1]\n",
    "            print triDist[prevLetter+sentence[0]][prevLetter+sentence[0]+sentence[1]]\n",
    "            pS = triDist[prevLetter+sentence[0]][prevLetter+sentence[0]+' '] * prevProb\n",
    "            pL = triDist[prevLetter+sentence[0]][prevLetter+sentence[0]+sentence[1]] * prevProb\n",
    "            pS /= (pS + pL)  # renormalize the previous branch in the probability tree\n",
    "            pL /= (pS + pL)\n",
    "            # move to next level in the tree\n",
    "            pLSL = pS * triDist[sentence[0]+' '][sentence[0]+' '+sentence[1]]  # account for the probability of adding the next letter after the space\n",
    "            pLLS = triDist[sentence[0]+sentence[1]][sentence[0]+sentence[1]+' '] * pL\n",
    "            pLLL = triDist[sentence[0]+sentence[1]][sentence[0]+sentence[1]+sentence[2]] * pL\n",
    "            # normalize all probabilities at the same level in the tree.\n",
    "            pLSL /= (pLSL+pLLS+pLLL)\n",
    "            pLLS /= (pLSL+pLLS+pLLL)\n",
    "            pLLL /= (pLSL+pLLS+pLLL)\n",
    "            # move to next level in the tree\n",
    "            pLSLS = pLSL * triDist[' '+sentence[1]][' '+sentence[1]+' ']\n",
    "            pLSLL = pLSL * triDist[' '+sentence[1]][' '+sentence[1]+sentence[2]]\n",
    "            pLLSL = pLLS * triDist[sentence[1]+' '][sentence[1]+' '+sentence[2]]\n",
    "            pLLL_ = pLLL\n",
    "            # normalize all probabilities at the same level in the tree.\n",
    "            pLSLS /= (pLSLS+pLSLL+pLLSL+pLLL)\n",
    "            pLSLL /= (pLSLS+pLSLL+pLLSL+pLLL)\n",
    "            pLLSL /= (pLSLS+pLSLL+pLLSL+pLLL)\n",
    "            pLLL_ /= (pLSLS+pLSLL+pLLSL+pLLL)\n",
    "            # move to last level in the tree\n",
    "            pLSLSL = pLSLS * triDist[sentence[1]+' '][sentence[1]+' '+sentence[2]]\n",
    "            # pick best sequence and probability of that sequence\n",
    "            if pLSLSL >= pLSLL and pLSLSL >= pLLSL and pLSLSL >= pLLL_:\n",
    "                segment = ' '+sentence[1]+' '+sentence[2]\n",
    "                pLast = pLSLSL/(pLSLSL+pLSLL+pLLSL+pLLL_)\n",
    "                lLast = ' '\n",
    "                print 'best: '\n",
    "            print ' '+sentence[1]+' '+sentence[2]\n",
    "            print pLSLSL/(pLSLSL+pLSLL+pLLSL+pLLL_)\n",
    "            if pLSLL >= pLSLSL and pLSLL >= pLLSL and pLSLL >= pLLL_:\n",
    "                segment = ' '+sentence[1]+sentence[2]\n",
    "                pLast = pLSLL/(pLSLSL+pLSLL+pLLSL+pLLL_)\n",
    "                lLast = sentence[1]\n",
    "                print 'best: '\n",
    "            print ' '+sentence[1]+sentence[2]\n",
    "            print pLSLL/(pLSLSL+pLSLL+pLLSL+pLLL_)\n",
    "            if pLLSL >= pLSLSL and pLLSL >= pLSLL and pLLSL >= pLLL_:\n",
    "                segment = sentence[1]+' '+sentence[2]\n",
    "                pLast = pLLSL/(pLSLSL+pLSLL+pLLSL+pLLL_)\n",
    "                lLast = ' '\n",
    "                print 'best: '\n",
    "            print sentence[1]+' '+sentence[2]\n",
    "            print pLLSL/(pLSLSL+pLSLL+pLLSL+pLLL_)\n",
    "            if pLLL_ >= pLSLSL and pLLL_ >= pLSLL and pLLL_ >= pLLSL:\n",
    "                segment = sentence[1]+sentence[2]\n",
    "                pLast = pLLL_/(pLSLSL+pLSLL+pLLSL+pLLL_)\n",
    "                lLast = sentence[1]\n",
    "                print 'best: '\n",
    "            print sentence[1]+sentence[2]\n",
    "            print pLLL_/(pLSLSL+pLSLL+pLLSL+pLLL_)\n",
    "            newSentence = segment + trigramSegment(sentence[2:],biDist,triDist,prevLetter=lLast,prevProb = pLast)\n",
    "    return newSentence"
   ]
  },
  {
   "cell_type": "code",
   "execution_count": 50,
   "metadata": {
    "collapsed": false
   },
   "outputs": [
    {
     "name": "stdout",
     "output_type": "stream",
     "text": [
      " a \n",
      "0.155741444867\n",
      " am\n",
      "0.026463878327\n",
      " m g\n",
      "0.0\n",
      " mg\n",
      "0.0\n",
      "best: \n",
      "m g\n",
      "1.0\n",
      "mg\n",
      "0.0\n",
      "mg \n",
      "0\n",
      "mgo\n",
      "0\n"
     ]
    },
    {
     "ename": "ZeroDivisionError",
     "evalue": "float division by zero",
     "output_type": "error",
     "traceback": [
      "\u001b[0;31m---------------------------------------------------------------------------\u001b[0m",
      "\u001b[0;31mZeroDivisionError\u001b[0m                         Traceback (most recent call last)",
      "\u001b[0;32m<ipython-input-50-489641c0ac53>\u001b[0m in \u001b[0;36m<module>\u001b[0;34m()\u001b[0m\n\u001b[0;32m----> 1\u001b[0;31m \u001b[0;32mprint\u001b[0m \u001b[0mtrigramSegment\u001b[0m\u001b[0;34m(\u001b[0m\u001b[0ma\u001b[0m\u001b[0;34m)\u001b[0m\u001b[0;34m\u001b[0m\u001b[0m\n\u001b[0m",
      "\u001b[0;32m<ipython-input-49-b5146d60c630>\u001b[0m in \u001b[0;36mtrigramSegment\u001b[0;34m(sentence, biDist, triDist, prevLetter, prevProb)\u001b[0m\n\u001b[1;32m      8\u001b[0m         \u001b[0;32mif\u001b[0m \u001b[0mpSpace\u001b[0m \u001b[0;34m>\u001b[0m \u001b[0mpLetter\u001b[0m\u001b[0;34m:\u001b[0m\u001b[0;34m\u001b[0m\u001b[0m\n\u001b[1;32m      9\u001b[0m             \u001b[0mpSpace\u001b[0m \u001b[0;34m/=\u001b[0m \u001b[0;34m(\u001b[0m\u001b[0mpSpace\u001b[0m\u001b[0;34m+\u001b[0m\u001b[0mpLetter\u001b[0m\u001b[0;34m)\u001b[0m  \u001b[0;31m# renormalize again\u001b[0m\u001b[0;34m\u001b[0m\u001b[0m\n\u001b[0;32m---> 10\u001b[0;31m             \u001b[0mnewSentence\u001b[0m \u001b[0;34m+=\u001b[0m \u001b[0;34m' '\u001b[0m \u001b[0;34m+\u001b[0m \u001b[0msentence\u001b[0m\u001b[0;34m[\u001b[0m\u001b[0;36m1\u001b[0m\u001b[0;34m]\u001b[0m \u001b[0;34m+\u001b[0m \u001b[0mtrigramSegment\u001b[0m\u001b[0;34m(\u001b[0m\u001b[0msentence\u001b[0m\u001b[0;34m[\u001b[0m\u001b[0;36m1\u001b[0m\u001b[0;34m:\u001b[0m\u001b[0;34m]\u001b[0m\u001b[0;34m,\u001b[0m\u001b[0mbiDist\u001b[0m\u001b[0;34m,\u001b[0m\u001b[0mtriDist\u001b[0m\u001b[0;34m,\u001b[0m\u001b[0mprevLetter\u001b[0m\u001b[0;34m=\u001b[0m \u001b[0;34m' '\u001b[0m\u001b[0;34m,\u001b[0m\u001b[0mprevProb\u001b[0m \u001b[0;34m=\u001b[0m \u001b[0mpSpace\u001b[0m\u001b[0;34m)\u001b[0m\u001b[0;34m\u001b[0m\u001b[0m\n\u001b[0m\u001b[1;32m     11\u001b[0m         \u001b[0;32melse\u001b[0m\u001b[0;34m:\u001b[0m\u001b[0;34m\u001b[0m\u001b[0m\n\u001b[1;32m     12\u001b[0m             \u001b[0mpLetter\u001b[0m \u001b[0;34m/=\u001b[0m \u001b[0;34m(\u001b[0m\u001b[0mpSpace\u001b[0m\u001b[0;34m+\u001b[0m\u001b[0mpLetter\u001b[0m\u001b[0;34m)\u001b[0m\u001b[0;34m\u001b[0m\u001b[0m\n",
      "\u001b[0;32m<ipython-input-49-b5146d60c630>\u001b[0m in \u001b[0;36mtrigramSegment\u001b[0;34m(sentence, biDist, triDist, prevLetter, prevProb)\u001b[0m\n\u001b[1;32m     81\u001b[0m             \u001b[0;32mprint\u001b[0m \u001b[0msentence\u001b[0m\u001b[0;34m[\u001b[0m\u001b[0;36m1\u001b[0m\u001b[0;34m]\u001b[0m\u001b[0;34m+\u001b[0m\u001b[0msentence\u001b[0m\u001b[0;34m[\u001b[0m\u001b[0;36m2\u001b[0m\u001b[0;34m]\u001b[0m\u001b[0;34m\u001b[0m\u001b[0m\n\u001b[1;32m     82\u001b[0m             \u001b[0;32mprint\u001b[0m \u001b[0mpLLL_\u001b[0m\u001b[0;34m/\u001b[0m\u001b[0;34m(\u001b[0m\u001b[0mpLSLSL\u001b[0m\u001b[0;34m+\u001b[0m\u001b[0mpLSLL\u001b[0m\u001b[0;34m+\u001b[0m\u001b[0mpLLSL\u001b[0m\u001b[0;34m+\u001b[0m\u001b[0mpLLL_\u001b[0m\u001b[0;34m)\u001b[0m\u001b[0;34m\u001b[0m\u001b[0m\n\u001b[0;32m---> 83\u001b[0;31m             \u001b[0mnewSentence\u001b[0m \u001b[0;34m=\u001b[0m \u001b[0msegment\u001b[0m \u001b[0;34m+\u001b[0m \u001b[0mtrigramSegment\u001b[0m\u001b[0;34m(\u001b[0m\u001b[0msentence\u001b[0m\u001b[0;34m[\u001b[0m\u001b[0;36m2\u001b[0m\u001b[0;34m:\u001b[0m\u001b[0;34m]\u001b[0m\u001b[0;34m,\u001b[0m\u001b[0mbiDist\u001b[0m\u001b[0;34m,\u001b[0m\u001b[0mtriDist\u001b[0m\u001b[0;34m,\u001b[0m\u001b[0mprevLetter\u001b[0m\u001b[0;34m=\u001b[0m\u001b[0msentence\u001b[0m\u001b[0;34m[\u001b[0m\u001b[0;36m1\u001b[0m\u001b[0;34m]\u001b[0m\u001b[0;34m,\u001b[0m\u001b[0mprevProb\u001b[0m \u001b[0;34m=\u001b[0m \u001b[0mpLast\u001b[0m\u001b[0;34m)\u001b[0m\u001b[0;34m\u001b[0m\u001b[0m\n\u001b[0m\u001b[1;32m     84\u001b[0m     \u001b[0;32mreturn\u001b[0m \u001b[0mnewSentence\u001b[0m\u001b[0;34m\u001b[0m\u001b[0m\n",
      "\u001b[0;32m<ipython-input-49-b5146d60c630>\u001b[0m in \u001b[0;36mtrigramSegment\u001b[0;34m(sentence, biDist, triDist, prevLetter, prevProb)\u001b[0m\n\u001b[1;32m     34\u001b[0m             \u001b[0mpS\u001b[0m \u001b[0;34m=\u001b[0m \u001b[0mtriDist\u001b[0m\u001b[0;34m[\u001b[0m\u001b[0mprevLetter\u001b[0m\u001b[0;34m+\u001b[0m\u001b[0msentence\u001b[0m\u001b[0;34m[\u001b[0m\u001b[0;36m0\u001b[0m\u001b[0;34m]\u001b[0m\u001b[0;34m]\u001b[0m\u001b[0;34m[\u001b[0m\u001b[0mprevLetter\u001b[0m\u001b[0;34m+\u001b[0m\u001b[0msentence\u001b[0m\u001b[0;34m[\u001b[0m\u001b[0;36m0\u001b[0m\u001b[0;34m]\u001b[0m\u001b[0;34m+\u001b[0m\u001b[0;34m' '\u001b[0m\u001b[0;34m]\u001b[0m \u001b[0;34m*\u001b[0m \u001b[0mprevProb\u001b[0m\u001b[0;34m\u001b[0m\u001b[0m\n\u001b[1;32m     35\u001b[0m             \u001b[0mpL\u001b[0m \u001b[0;34m=\u001b[0m \u001b[0mtriDist\u001b[0m\u001b[0;34m[\u001b[0m\u001b[0mprevLetter\u001b[0m\u001b[0;34m+\u001b[0m\u001b[0msentence\u001b[0m\u001b[0;34m[\u001b[0m\u001b[0;36m0\u001b[0m\u001b[0;34m]\u001b[0m\u001b[0;34m]\u001b[0m\u001b[0;34m[\u001b[0m\u001b[0mprevLetter\u001b[0m\u001b[0;34m+\u001b[0m\u001b[0msentence\u001b[0m\u001b[0;34m[\u001b[0m\u001b[0;36m0\u001b[0m\u001b[0;34m]\u001b[0m\u001b[0;34m+\u001b[0m\u001b[0msentence\u001b[0m\u001b[0;34m[\u001b[0m\u001b[0;36m1\u001b[0m\u001b[0;34m]\u001b[0m\u001b[0;34m]\u001b[0m \u001b[0;34m*\u001b[0m \u001b[0mprevProb\u001b[0m\u001b[0;34m\u001b[0m\u001b[0m\n\u001b[0;32m---> 36\u001b[0;31m             \u001b[0mpS\u001b[0m \u001b[0;34m/=\u001b[0m \u001b[0;34m(\u001b[0m\u001b[0mpS\u001b[0m \u001b[0;34m+\u001b[0m \u001b[0mpL\u001b[0m\u001b[0;34m)\u001b[0m  \u001b[0;31m# renormalize the previous branch in the probability tree\u001b[0m\u001b[0;34m\u001b[0m\u001b[0m\n\u001b[0m\u001b[1;32m     37\u001b[0m             \u001b[0mpL\u001b[0m \u001b[0;34m/=\u001b[0m \u001b[0;34m(\u001b[0m\u001b[0mpS\u001b[0m \u001b[0;34m+\u001b[0m \u001b[0mpL\u001b[0m\u001b[0;34m)\u001b[0m\u001b[0;34m\u001b[0m\u001b[0m\n\u001b[1;32m     38\u001b[0m             \u001b[0;31m# move to next level in the tree\u001b[0m\u001b[0;34m\u001b[0m\u001b[0;34m\u001b[0m\u001b[0m\n",
      "\u001b[0;31mZeroDivisionError\u001b[0m: float division by zero"
     ]
    }
   ],
   "source": [
    "print trigramSegment(a)"
   ]
  },
  {
   "cell_type": "code",
   "execution_count": null,
   "metadata": {
    "collapsed": true
   },
   "outputs": [],
   "source": []
  }
 ],
 "metadata": {
  "kernelspec": {
   "display_name": "Python 2",
   "language": "python",
   "name": "python2"
  },
  "language_info": {
   "codemirror_mode": {
    "name": "ipython",
    "version": 2
   },
   "file_extension": ".py",
   "mimetype": "text/x-python",
   "name": "python",
   "nbconvert_exporter": "python",
   "pygments_lexer": "ipython2",
   "version": "2.7.10"
  }
 },
 "nbformat": 4,
 "nbformat_minor": 0
}
