{
 "cells": [
  {
   "cell_type": "markdown",
   "metadata": {},
   "source": [
    "# Final Project: Let's do this Brett."
   ]
  },
  {
   "cell_type": "code",
   "execution_count": 4,
   "metadata": {
    "collapsed": false
   },
   "outputs": [],
   "source": [
    "# import kenlm\n",
    "import re\n",
    "import os\n",
    "import string\n",
    "import util"
   ]
  },
  {
   "cell_type": "code",
   "execution_count": 5,
   "metadata": {
    "collapsed": false
   },
   "outputs": [],
   "source": [
    "def removePunctuation(inFile):\n",
    "    with open(inFile) as fileIn:\n",
    "        stringText = fileIn.read()\n",
    "        return stringText.translate(None, string.punctuation)"
   ]
  },
  {
   "cell_type": "code",
   "execution_count": 6,
   "metadata": {
    "collapsed": false
   },
   "outputs": [],
   "source": [
    "def alphaLowerNoSpace(inFile):\n",
    "    with open(inFile) as fileIn:\n",
    "        stringText = fileIn.read()\n",
    "        return re.sub(r'[^a-zA-Z]','', stringText).lower()\n",
    "    "
   ]
  },
  {
   "cell_type": "code",
   "execution_count": 7,
   "metadata": {
    "collapsed": false
   },
   "outputs": [],
   "source": [
    "def stripText(inFile):\n",
    "    with open(inFile) as fileIn:\n",
    "        stringText = fileIn.read()\n",
    "        return re.sub('[^A-Za-z ]+', '', stringText).lower()"
   ]
  },
  {
   "cell_type": "code",
   "execution_count": 8,
   "metadata": {
    "collapsed": false
   },
   "outputs": [],
   "source": [
    "def bigramDist(inFile):\n",
    "    stringText = stripText(inFile)\n",
    "    biDist = util.Counter()\n",
    "    for i in range(len(stringText)-1):\n",
    "        biDist[stringText[i] + stringText[i+1]] += 1\n",
    "    biDist.normalize()\n",
    "    return biDist"
   ]
  },
  {
<<<<<<< HEAD
   "cell_type": "code",
   "execution_count": 9,
   "metadata": {
    "collapsed": true
   },
   "outputs": [],
=======
   "cell_type": "markdown",
   "metadata": {},
>>>>>>> 4898b199b889c54d803a110f354a1175f3666c8f
   "source": [
    "We'll have to get another file to create our biDist, other than senseAndSensibility, the file we're trying to predict."
   ]
  },
  {
   "cell_type": "code",
<<<<<<< HEAD
   "execution_count": 10,
=======
   "execution_count": 11,
   "metadata": {
    "collapsed": true
   },
   "outputs": [],
   "source": [
    "# Replace ith large English words file.\n",
    "biDist= bigramDist('senseAndSensibility.txt')"
   ]
  },
  {
   "cell_type": "code",
   "execution_count": 12,
>>>>>>> 4898b199b889c54d803a110f354a1175f3666c8f
   "metadata": {
    "collapsed": false
   },
   "outputs": [],
   "source": [
    "def trigramDist(inFile):\n",
    "    stringText = stripText(inFile)\n",
    "    triDist = util.Counter()\n",
    "    for i in range(len(stringText)-2):\n",
    "        triDist[stringText[i] + stringText[i+1] + stringText[i+2]] += 1\n",
    "    triDist.normalize()\n",
    "    return triDist"
   ]
  },
  {
   "cell_type": "code",
<<<<<<< HEAD
   "execution_count": 11,
=======
   "execution_count": 13,
>>>>>>> 4898b199b889c54d803a110f354a1175f3666c8f
   "metadata": {
    "collapsed": false
   },
   "outputs": [],
   "source": [
    "triDist = trigramDist('senseAndSensibility.txt')"
   ]
  },
  {
   "cell_type": "code",
<<<<<<< HEAD
   "execution_count": 12,
=======
   "execution_count": 14,
>>>>>>> 4898b199b889c54d803a110f354a1175f3666c8f
   "metadata": {
    "collapsed": false
   },
   "outputs": [],
   "source": [
    "def fourgramDist(inFile):\n",
    "    stringText = stripText(inFile)\n",
    "    foDist = util.Counter()\n",
    "    for i in range(len(stringText)-3):\n",
    "        foDist[stringText[i] + stringText[i+1] + stringText[i+2] + stringText[i+3]] += 1\n",
    "    foDist.normalize()\n",
    "    return foDist"
   ]
  },
  {
   "cell_type": "code",
<<<<<<< HEAD
   "execution_count": 13,
=======
   "execution_count": 15,
>>>>>>> 4898b199b889c54d803a110f354a1175f3666c8f
   "metadata": {
    "collapsed": false
   },
   "outputs": [],
   "source": [
    "fourDist = fourgramDist('senseAndSensibility.txt')"
   ]
  },
  {
   "cell_type": "code",
<<<<<<< HEAD
   "execution_count": 77,
=======
   "execution_count": 86,
>>>>>>> 4898b199b889c54d803a110f354a1175f3666c8f
   "metadata": {
    "collapsed": false
   },
   "outputs": [],
   "source": [
    "def bigramSegment(sentence, biDist=biDist):\n",
    "    pi = []\n",
    "    newSentence = sentence[0]\n",
    "    pi.append(1)\n",
    "    for i in range(len(sentence)-1):\n",
    "        pSpace = biDist[sentence[i]+' '] + biDist[' '+sentence[i+1]] # * pi[i]\n",
    "        pLetter = 2*biDist[sentence[i]+sentence[i+1]] # * pi[i]\n",
    "        pi.append(max(pSpace,pLetter))\n",
    "        if pSpace > pLetter:\n",
    "            newSentence += ' ' + sentence[i+1]\n",
    "        else:\n",
    "            newSentence += sentence[i+1]\n",
    "        \n",
    "    return newSentence"
   ]
  },
  {
   "cell_type": "code",
<<<<<<< HEAD
   "execution_count": 18,
=======
   "execution_count": 87,
>>>>>>> 4898b199b889c54d803a110f354a1175f3666c8f
   "metadata": {
    "collapsed": false
   },
   "outputs": [],
   "source": [
<<<<<<< HEAD
    "def bigramSegmentNew(sentence):\n",
    "    pi = []\n",
    "    newSentence = sentence[0]\n",
    "    pi.append(1)\n",
    "    for i in range(len(sentence)-1):\n",
    "        pSpace = biDist[sentence[i]+' '] * biDist[' '+sentence[i+1]]\n",
    "        pLetter = biDist[sentence[i]+sentence[i+1]] * pi[i]\n",
    "        if pSpace > pLetter:\n",
    "            newSentence += ' ' + sentence[i+1]\n",
    "            pi.append(biDist[' ' + sentence[i+1]])\n",
    "        else:\n",
    "            newSentence += sentence[i+1]\n",
    "            pi.append(biDist[sentence[i] + sentence[i+1]])\n",
    "    return newSentence"
   ]
  },
  {
   "cell_type": "code",
   "execution_count": 19,
   "metadata": {
    "collapsed": true
   },
   "outputs": [],
   "source": [
    "sentence = 'helloworld'"
=======
    "a = \"hello world\"\n",
    "# keys = ['hi','ib','br','re','et','tt','h ', 'i ', 'b ','r ', 'e ','t ', 't ']\n",
    "# myDist = dict({key:0 for key in keys})\n",
    "# myDist['i '] = 1\n",
    "# for c in ['hi','br','re','et','tt']:\n",
    "#     myDist[c] = 0.2"
>>>>>>> 4898b199b889c54d803a110f354a1175f3666c8f
   ]
  },
  {
   "cell_type": "code",
<<<<<<< HEAD
   "execution_count": 20,
=======
   "execution_count": 92,
   "metadata": {
    "collapsed": true
   },
   "outputs": [],
   "source": [
    "def fourgramSegment(sentence, fourDist=fourDist):\n",
    "    pi = []\n",
    "    newSentence = sentence[0]\n",
    "    pi.append(1)\n",
    "    for i in range(len(sentence)-3):\n",
    "        pSpace = fourDist[sentence[i-2]+sentence[i-1] + sentence[i] + ' '] \n",
    "                + fourDist[sentence[i-1]+sentence[i] + ' ' +sentence[i+1]]\n",
    "                + fourDist[sentence[i]+ ' ' + sentence[i+1] + sentence[i+2]]\n",
    "                + fourDist[' ' + sentence[i+1] + sentence[i+2] + sentence[i+3]]\n",
    "        pLetter = (4.0/3)*(fourDist[sentence[i-2]+sentence[i-1] + sentence[i] + sentence[i+1]]\n",
    "                           + fourDist[sentence[i-1]+sentence[i] + sentence[i+1] + sentence[i+2]]\n",
    "                           + fourDist[sentence[i]+sentence[i+1] + sentence[i+2] + sentence[i+3]])\n",
    "        pi.append(max(pSpace,pLetter))\n",
    "        if pSpace > pLetter:\n",
    "            newSentence += ' ' + sentence[i+1]\n",
    "        else:\n",
    "            newSentence += sentence[i+1]\n",
    "        \n",
    "    return newSentence"
   ]
  },
  {
   "cell_type": "code",
   "execution_count": 93,
>>>>>>> 4898b199b889c54d803a110f354a1175f3666c8f
   "metadata": {
    "collapsed": false
   },
   "outputs": [
    {
<<<<<<< HEAD
     "data": {
      "text/plain": [
       "'he ll o wo r l d'"
      ]
     },
     "execution_count": 20,
     "metadata": {},
     "output_type": "execute_result"
    }
   ],
   "source": [
    "bigramSegment(sentence)"
=======
     "name": "stdout",
     "output_type": "stream",
     "text": [
      "h e ll o w or\n"
     ]
    }
   ],
   "source": [
    "print fourgramSegment(\"helloworld\")"
>>>>>>> 4898b199b889c54d803a110f354a1175f3666c8f
   ]
  },
  {
   "cell_type": "code",
   "execution_count": null,
   "metadata": {
    "collapsed": true
   },
   "outputs": [],
   "source": []
  }
 ],
 "metadata": {
  "kernelspec": {
   "display_name": "Python 2",
   "language": "python",
   "name": "python2"
  },
  "language_info": {
   "codemirror_mode": {
    "name": "ipython",
    "version": 2
   },
   "file_extension": ".py",
   "mimetype": "text/x-python",
   "name": "python",
   "nbconvert_exporter": "python",
   "pygments_lexer": "ipython2",
   "version": "2.7.10"
  }
 },
 "nbformat": 4,
 "nbformat_minor": 0
}
