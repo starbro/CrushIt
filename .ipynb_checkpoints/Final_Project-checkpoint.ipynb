{
 "cells": [
  {
   "cell_type": "markdown",
   "metadata": {},
   "source": [
    "# Final Project: Let's do this Brett."
   ]
  },
  {
   "cell_type": "code",
   "execution_count": 7,
   "metadata": {
    "collapsed": false
   },
   "outputs": [],
   "source": [
    "import kenlm\n",
    "import re\n",
    "import os\n",
    "import string\n",
    "import util"
   ]
  },
  {
   "cell_type": "code",
   "execution_count": 8,
   "metadata": {
    "collapsed": false
   },
   "outputs": [],
   "source": [
    "def removePunctuation(inFile):\n",
    "    with open(inFile) as fileIn:\n",
    "        stringText = fileIn.read()\n",
    "        return stringText.translate(None, string.punctuation)"
   ]
  },
  {
   "cell_type": "code",
   "execution_count": 9,
   "metadata": {
    "collapsed": false
   },
   "outputs": [],
   "source": [
    "def alphaLowerNoSpace(inFile):\n",
    "    with open(inFile) as fileIn:\n",
    "        stringText = fileIn.read()\n",
    "        return re.sub(r'[^a-zA-Z]','', stringText).lower()\n",
    "    "
   ]
  },
  {
   "cell_type": "code",
   "execution_count": 10,
   "metadata": {
    "collapsed": false
   },
   "outputs": [],
   "source": [
    "def stripText(inFile):\n",
    "    with open(inFile) as fileIn:\n",
    "        stringText = fileIn.read()\n",
    "        return re.sub('[^A-Za-z ]+', '', stringText).lower()"
   ]
  },
  {
   "cell_type": "code",
   "execution_count": 11,
   "metadata": {
    "collapsed": false
   },
   "outputs": [],
   "source": [
    "def bigramDist(inFile):\n",
    "    stringText = stripText(inFile)\n",
    "    biDist = util.Counter()\n",
    "    for i in range(len(stringText)-1):\n",
    "        biDist[stringText[i] + stringText[i+1]] += 1\n",
    "    biDist.normalize()\n",
    "    return biDist"
   ]
  },
  {
   "cell_type": "code",
   "execution_count": 36,
   "metadata": {
    "collapsed": true
   },
   "outputs": [],
   "source": [
    "biDist= bigramDist('senseAndSensibility.txt')"
   ]
  },
  {
   "cell_type": "code",
   "execution_count": null,
   "metadata": {
    "collapsed": true
   },
   "outputs": [],
   "source": []
  },
  {
   "cell_type": "code",
   "execution_count": 15,
   "metadata": {
    "collapsed": false
   },
   "outputs": [],
   "source": [
    "def trigramDist(inFile):\n",
    "    stringText = stripText(inFile)\n",
    "    triDist = util.Counter()\n",
    "    for i in range(len(stringText)-2):\n",
    "        triDist[stringText[i] + stringText[i+1] + stringText[i+2]] += 1\n",
    "    triDist.normalize()\n",
    "    return triDist"
   ]
  },
  {
   "cell_type": "code",
   "execution_count": 17,
   "metadata": {
    "collapsed": false
   },
   "outputs": [],
   "source": [
    "a = trigramDist('senseAndSensibility.txt')"
   ]
  },
  {
   "cell_type": "code",
   "execution_count": 21,
   "metadata": {
    "collapsed": false
   },
   "outputs": [],
   "source": [
    "def fourgramDist(inFile):\n",
    "    stringText = stripText(inFile)\n",
    "    foDist = util.Counter()\n",
    "    for i in range(len(stringText)-3):\n",
    "        foDist[stringText[i] + stringText[i+1] + stringText[i+2] + stringText[i+3]] += 1\n",
    "    foDist.normalize()\n",
    "    return foDist"
   ]
  },
  {
   "cell_type": "code",
   "execution_count": 22,
   "metadata": {
    "collapsed": false
   },
   "outputs": [],
   "source": [
    "b = fourgramDist('senseAndSensibility.txt')"
   ]
  },
  {
   "cell_type": "code",
   "execution_count": 71,
   "metadata": {
    "collapsed": true
   },
   "outputs": [],
   "source": [
    "def bigramSegment(sentence):\n",
    "    pi = []\n",
    "    newSentence = sentence[0]\n",
    "    pi.append(1)\n",
    "    for i in range(len(sentence)-1):\n",
    "        pSpace = biDist[sentence[i]+' '] * pi[i]\n",
    "        pLetter = biDist[sentence[i]+sentence[i+1]] * pi[i]\n",
    "        pi.append(max(pSpace,pLetter))\n",
    "        if pSpace > pLetter:\n",
    "            newSentence += ' ' + sentence[i+1]\n",
    "        else:\n",
    "            newSentence += sentence[i+1]\n",
    "    return newSentence"
   ]
  },
  {
   "cell_type": "code",
   "execution_count": 72,
   "metadata": {
    "collapsed": false
   },
   "outputs": [],
   "source": [
    "sentence = 'hello world'"
   ]
  },
  {
   "cell_type": "code",
   "execution_count": 73,
   "metadata": {
    "collapsed": false
   },
   "outputs": [],
   "source": [
    "sentence = re.sub(r'[^a-zA-Z]','', sentence).lower()"
   ]
  },
  {
   "cell_type": "code",
   "execution_count": 74,
   "metadata": {
    "collapsed": false
   },
   "outputs": [
    {
     "data": {
      "text/plain": [
       "'helloworld'"
      ]
     },
     "execution_count": 74,
     "metadata": {},
     "output_type": "execute_result"
    }
   ],
   "source": [
    "sentence"
   ]
  },
  {
   "cell_type": "code",
   "execution_count": 75,
   "metadata": {
    "collapsed": false
   },
   "outputs": [],
   "source": [
    "newSentence = bigramSegment(sentence)"
   ]
  },
  {
   "cell_type": "code",
   "execution_count": 53,
   "metadata": {
    "collapsed": true
   },
   "outputs": [],
   "source": [
    "sentence = 'hello world'"
   ]
  },
  {
   "cell_type": "code",
   "execution_count": 62,
   "metadata": {
    "collapsed": false
   },
   "outputs": [],
   "source": [
    "sentence = 'helloworld'"
   ]
  },
  {
   "cell_type": "code",
   "execution_count": 63,
   "metadata": {
    "collapsed": true
   },
   "outputs": [],
   "source": [
    "newSentence = bigramSegment(sentence)"
   ]
  },
  {
   "cell_type": "code",
   "execution_count": 76,
   "metadata": {
    "collapsed": false
   },
   "outputs": [
    {
     "data": {
      "text/plain": [
       "'helloworld'"
      ]
     },
     "execution_count": 76,
     "metadata": {},
     "output_type": "execute_result"
    }
   ],
   "source": [
    "newSentence"
   ]
  },
  {
   "cell_type": "code",
   "execution_count": null,
   "metadata": {
    "collapsed": true
   },
   "outputs": [],
   "source": []
  }
 ],
 "metadata": {
  "kernelspec": {
   "display_name": "Python 2",
   "language": "python",
   "name": "python2"
  },
  "language_info": {
   "codemirror_mode": {
    "name": "ipython",
    "version": 2
   },
   "file_extension": ".py",
   "mimetype": "text/x-python",
   "name": "python",
   "nbconvert_exporter": "python",
   "pygments_lexer": "ipython2",
   "version": "2.7.10"
  }
 },
 "nbformat": 4,
 "nbformat_minor": 0
}
